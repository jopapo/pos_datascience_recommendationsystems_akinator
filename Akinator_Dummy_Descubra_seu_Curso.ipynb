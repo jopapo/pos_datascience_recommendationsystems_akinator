{
  "nbformat": 4,
  "nbformat_minor": 0,
  "metadata": {
    "colab": {
      "name": "Akinator Dummy - Descubra seu Curso.ipynb",
      "provenance": [],
      "collapsed_sections": [],
      "authorship_tag": "ABX9TyNr3Qqj4vxHJQqnQE5QwsWj",
      "include_colab_link": true
    },
    "kernelspec": {
      "name": "python3",
      "display_name": "Python 3"
    },
    "language_info": {
      "name": "python"
    }
  },
  "cells": [
    {
      "cell_type": "markdown",
      "metadata": {
        "id": "view-in-github",
        "colab_type": "text"
      },
      "source": [
        "<a href=\"https://colab.research.google.com/github/jopapo/pos_datascience_recommendationsystems_akinator/blob/main/Akinator_Dummy_Descubra_seu_Curso.ipynb\" target=\"_parent\"><img src=\"https://colab.research.google.com/assets/colab-badge.svg\" alt=\"Open In Colab\"/></a>"
      ]
    },
    {
      "cell_type": "markdown",
      "metadata": {
        "id": "6PJzx1cEJexb"
      },
      "source": [
        "# Resumo do projeto\n",
        "\n",
        "Inspirado levemente pelo Akinator, criamos uma solução para escolher o curso com base nas matérias que parecem interessantes ao usuário.\n",
        "\n",
        "Nessa versão não há pesos nem respostas condicionais como \"Talvez sim\" ou \"Não sei\". Só absolutas (Sith!).\n",
        "\n",
        "Também não há aprendizado, ou priorização das perguntas para garantir o menor caminho. Tudo aleatório com exclusão de cursos impossíveis."
      ]
    },
    {
      "cell_type": "markdown",
      "metadata": {
        "id": "BKzyXUAFtyjF"
      },
      "source": [
        "# Dependências do projeto"
      ]
    },
    {
      "cell_type": "code",
      "metadata": {
        "id": "fysqmqF6txiu"
      },
      "source": [
        "import random\n"
      ],
      "execution_count": 1,
      "outputs": []
    },
    {
      "cell_type": "markdown",
      "metadata": {
        "id": "VX7Zna0ft2A1"
      },
      "source": [
        "# Base de dados de teste\n",
        "\n",
        "Basicamente temos uma lista `cursos` onde a chave é o curso e contém a lista de matérias. \n",
        "\n",
        "Como a comparação é simples, a mesma matéria em dois cursos deve ter escrita idêntica.\n",
        "\n",
        "Daí um complemento opcional (lista `perguntas`), que poderia ser a ementa, ou uma pergunta simplificada, quando for questionar o usuário sobre uma matéria."
      ]
    },
    {
      "cell_type": "code",
      "metadata": {
        "id": "c3QEZQvitven"
      },
      "source": [
        "def data():\n",
        "  cursos = {\n",
        "      'Ciências da computação': ['Análise de sistemas', 'Banco de dados', 'Programação C#'],\n",
        "      'Sistemas de informação': ['Análise de sistemas', 'Gestão de projetos', 'Métodos ágeis'],\n",
        "      'Moda': ['Gestão de projetos', 'Corte e costura']\n",
        "  }\n",
        "  perguntas = {\n",
        "      'Análise de sistemas': 'Você curte pensar como um software pode ser desenvolvido?',\n",
        "      'Bancos de dados': 'Você acha interessante entender como os softwares guardam informações?',\n",
        "      'Gestão de projetos': 'Você curte gerir pessoas e prazos?',\n",
        "      'Métodos ágeis': 'Você gostaria de saber métodos de gestão que podem acelerar entregas tendo menos rastreamento/documentação?',\n",
        "      'Corte e costura': 'Você gostaria de aprender a criar peças de roupa?',\n",
        "      'Programação C#': 'Você gostaria de aprender a liguagem de programação mais popular na sua região (C#)?'\n",
        "  }\n",
        "  return cursos, perguntas\n"
      ],
      "execution_count": 2,
      "outputs": []
    },
    {
      "cell_type": "markdown",
      "metadata": {
        "id": "7rkkpZvrt9qU"
      },
      "source": [
        "# Escolha das perguntas e identificação de fim"
      ]
    },
    {
      "cell_type": "code",
      "metadata": {
        "id": "JkBOkbpnuAs-"
      },
      "source": [
        "def pergunta(cursos, perguntas, materias_perguntadas):\n",
        "  # Cria uma lista chapada de matérias\n",
        "  materias = [item for sublist in cursos.values() for item in sublist]\n",
        "  materias_nao_perguntadas = [materia for materia in materias if materia not in materias_perguntadas]\n",
        "\n",
        "  # Escolhe uma matéria aleatoriamente\n",
        "  materia_escolhida_aleatoriamente = random.choice(materias_nao_perguntadas)\n",
        "\n",
        "  # Pergunta pro usuário se ele curte\n",
        "  print(perguntas.get(materia_escolhida_aleatoriamente, 'Você curte ' + materia_escolhida_aleatoriamente + ' ?'))  \n",
        "  print('[', materia_escolhida_aleatoriamente, '] - [ Ementa ]')\n",
        "  curte = input('(S=Sim; Outra coisa=Não):').upper() == 'S'\n",
        "\n",
        "  # Listagem dos cursos que devem ser mantidos\n",
        "  cursos_que_ficam = {}\n",
        "\n",
        "  # Marca a matéria como perguntada\n",
        "  materias_perguntadas[materia_escolhida_aleatoriamente] = 1\n",
        "\n",
        "  # Se curtiu, remove todos os cursos que não tem a matéria, se não curtir, remove todas que tem\n",
        "  for curso, materias in cursos.items():\n",
        "    curso_tem_materia = materia_escolhida_aleatoriamente in materias\n",
        "    #print(curte, curso_tem_materia, materia, curso)\n",
        "    if curte == curso_tem_materia:\n",
        "      cursos_que_ficam[curso] = 1\n",
        "\n",
        "  #print(len(cursos), cursos_que_ficam.keys())\n",
        "  cursos = {curso: materias for curso, materias in cursos.items() if curso in cursos_que_ficam.keys()}\n",
        "  \n",
        "  #print(materias_por_curso_sobraram)\n",
        "\n",
        "  return cursos, materias_perguntadas\n"
      ],
      "execution_count": 3,
      "outputs": []
    },
    {
      "cell_type": "markdown",
      "metadata": {
        "id": "MjGXs2AxuCZd"
      },
      "source": [
        "# Ciclo de execução da aplicação"
      ]
    },
    {
      "cell_type": "code",
      "metadata": {
        "colab": {
          "base_uri": "https://localhost:8080/"
        },
        "id": "OleGeoZUQaLM",
        "outputId": "b3a579b8-42bf-4cba-9f20-071fdacac137"
      },
      "source": [
        "def init():\n",
        "  cursos, perguntas = data()\n",
        "\n",
        "  cache = {}\n",
        "  contagem = 0\n",
        "  while len(cursos) > 1:\n",
        "    contagem = contagem + 1\n",
        "    cursos, cache = pergunta(cursos, perguntas, cache)\n",
        "\n",
        "  print('Provavelmente você irá gostar de', next(iter(cursos)))\n",
        "\n",
        "  print('[', contagem, 'pergunta(s) necessária(s) ]')\n",
        "\n",
        "init()"
      ],
      "execution_count": 4,
      "outputs": [
        {
          "output_type": "stream",
          "name": "stdout",
          "text": [
            "Você curte pensar como um software pode ser desenvolvido?\n",
            "[ Análise de sistemas ] - [ Ementa ]\n",
            "(S=Sim; Outra coisa=Não):S\n",
            "Você curte gerir pessoas e prazos?\n",
            "[ Gestão de projetos ] - [ Ementa ]\n",
            "(S=Sim; Outra coisa=Não):N\n",
            "Provavelmente você irá gostar de Ciências da computação\n",
            "[ 2 pergunta(s) necessária(s) ]\n"
          ]
        }
      ]
    }
  ]
}